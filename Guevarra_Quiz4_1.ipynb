{
  "nbformat": 4,
  "nbformat_minor": 0,
  "metadata": {
    "colab": {
      "provenance": [],
      "authorship_tag": "ABX9TyP03NgHbzvL3e0zVutV20bF",
      "include_colab_link": true
    },
    "kernelspec": {
      "name": "python3",
      "display_name": "Python 3"
    },
    "language_info": {
      "name": "python"
    }
  },
  "cells": [
    {
      "cell_type": "markdown",
      "metadata": {
        "id": "view-in-github",
        "colab_type": "text"
      },
      "source": [
        "<a href=\"https://colab.research.google.com/github/GuevarraHans/CPE019/blob/main/Guevarra_Quiz4_1.ipynb\" target=\"_parent\"><img src=\"https://colab.research.google.com/assets/colab-badge.svg\" alt=\"Open In Colab\"/></a>"
      ]
    },
    {
      "cell_type": "markdown",
      "source": [
        "NAME: HANS ANGELO C. GUEVARRA <br>\n",
        "COURSE AND SECTION: CPE 019 - CPE32S3 <br>\n",
        "QUIZ 4.1 <br>\n",
        "DATE: 2-28-24"
      ],
      "metadata": {
        "id": "_F5wF3CLxc3m"
      }
    },
    {
      "cell_type": "markdown",
      "source": [
        "**SET B**\n",
        "\n",
        "Write a program to select the 'attempts' and 'qualify' columns from the following DataFrame.\n",
        "\n",
        "exam_data = {'name': ['Anastasia', 'Dima', 'Katherine', 'James', 'Emily', 'Michael', 'Matthew', 'Laura', 'Kevin', 'Jonas'],\n",
        "'score': [12.5, 9, 16.5, np.nan, 9, 20, 14.5, np.nan, 8, 19],\n",
        "'attempts': [1, 3, 2, 3, 2, 3, 1, 1, 2, 1],\n",
        "'qualify': ['yes', 'no', 'yes', 'no', 'no', 'yes', 'yes', 'no', 'no', 'yes']}\n",
        "labels = ['a', 'b', 'c', 'd', 'e', 'f', 'g', 'h', 'i', 'j']"
      ],
      "metadata": {
        "id": "OLFXfsyYxaEP"
      }
    },
    {
      "cell_type": "code",
      "source": [
        "# Import libraries\n",
        "# Enter the given program in \"Set B\"\n",
        "import pandas as pd\n",
        "import numpy as np\n",
        "\n",
        "exam_data = {'name': ['Anastasia','Dima','Katherine','James','Emily','Michael','Matthew','Laura','Kevin','Jonas'],\n",
        "'score': [12.5, 9, 16.5, np.nan, 9, 20, 14.5, np.nan, 8, 19],\n",
        "'attempts': [1, 3, 2, 3, 2, 3, 1, 1, 2, 1],\n",
        "'qualify': ['yes', 'no', 'yes', 'no', 'no', 'yes', 'yes', 'no', 'no', 'yes']}\n",
        "labels = ['a','b','c','d','e','f','g','h','i','j']"
      ],
      "metadata": {
        "id": "ird0LSeKxr2V"
      },
      "execution_count": 20,
      "outputs": []
    },
    {
      "cell_type": "code",
      "source": [
        "# Select 'attempts' columns from the DataFrame\n"
      ],
      "metadata": {
        "id": "K_tFjPXTzErQ"
      },
      "execution_count": null,
      "outputs": []
    },
    {
      "cell_type": "code",
      "source": [
        "# Select 'qualify' columns from the DataFrame"
      ],
      "metadata": {
        "id": "EhCXZqj52LFV"
      },
      "execution_count": null,
      "outputs": []
    }
  ]
}